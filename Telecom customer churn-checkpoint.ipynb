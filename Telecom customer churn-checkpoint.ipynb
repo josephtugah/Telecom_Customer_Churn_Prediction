{
 "cells": [
  {
   "cell_type": "markdown",
   "id": "7f5291ed",
   "metadata": {},
   "source": [
    "# Predicting Customer Churn\n"
   ]
  },
  {
   "cell_type": "markdown",
   "id": "8deb3e33",
   "metadata": {},
   "source": [
    "## Telecom Customer Churn"
   ]
  },
  {
   "cell_type": "markdown",
   "id": "16460eb1",
   "metadata": {},
   "source": [
    "This dataset is randomly collected from an Iranian telecom company's database over a period of 12 months. A total of 1428 rows of data, each representing a customer, bear information for 13 columns. The attributes that are in this dataset\n",
    "are call failures, frequency of SMS, number of complaints, number of distinct calls, subscription length, age group, the charge amount, type of service, seconds of use, status, frequency of use, and Customer Value.\n",
    "\n",
    "All of the attributes except for attribute churn is the aggregated data of the first 9 months. The churn labels are the state of the customers at the end of 12 months. The three months is the designated planning gap."
   ]
  },
  {
   "cell_type": "markdown",
   "id": "cae07227",
   "metadata": {},
   "source": [
    "## Business Problem"
   ]
  },
  {
   "cell_type": "markdown",
   "id": "daf23157",
   "metadata": {},
   "source": [
    " A competitor has recently entered the market and is offering an attractive plan to new customers. The telecom company is worried that this competitor may start attracting its customers.\n",
    "\n",
    "You have access to a dataset of the company's customers, including whether customers churned. The telecom company wants to know whether you can use this data to predict whether a customer will churn. They also want to know what factors increase the probability that a customer churns.\n",
    "\n",
    "You will need to prepare a report that is accessible to a broad audience."
   ]
  },
  {
   "cell_type": "code",
   "execution_count": 108,
   "id": "1ab1cad3",
   "metadata": {},
   "outputs": [],
   "source": [
    "#Importing librabries\n",
    "import numpy as np\n",
    "import pandas as pd\n",
    "import matplotlib.pyplot as plt\n",
    "import seaborn as sns\n"
   ]
  },
  {
   "cell_type": "markdown",
   "id": "34b8ff98",
   "metadata": {},
   "source": [
    "## Data dictionary\n",
    "\n",
    "- Call Failures: number of call failures\n",
    "\n",
    "- Complains: binary (0: No complaint, 1: complaint)\n",
    "\n",
    "- Subscription Length: total months of subscription\n",
    "\n",
    "- Charge Amount: Ordinal attribute (0: lowest amount, 9: highest amount)\n",
    "\n",
    "- Seconds of Use: total seconds of calls\n",
    "\n",
    "- Frequency of use: total number of calls\n",
    "\n",
    "- Frequency of SMS: total number of text messages\n",
    "\n",
    "- Distinct Called Numbers: total number of distinct phone call\n",
    "\n",
    "- Age Group: ordinal attribute (1: younger age, 5: older age)\n",
    "\n",
    "- Tariff Plan: binary (1: Pay as you go, 2: contractual)\n",
    "\n",
    "- Status: binary (1: active, 2: non-active)\n",
    "\n",
    "- Churn: binary (1: churn, 0: non-churn) - Class label\n",
    "\n",
    "- Customer Value: The calculated value of customer"
   ]
  },
  {
   "cell_type": "code",
   "execution_count": 130,
   "id": "7e694061",
   "metadata": {},
   "outputs": [],
   "source": [
    "#Importing data\n",
    "telco = pd.read_csv('C:/Users/Joseph/Desktop/MACHINE LEARNING/Marketing Analytics/Predicting customer churn in python/Portfolio Project/telco data.csv')"
   ]
  },
  {
   "cell_type": "code",
   "execution_count": 110,
   "id": "f6915d4f",
   "metadata": {
    "scrolled": false
   },
   "outputs": [
    {
     "data": {
      "text/html": [
       "<div>\n",
       "<style scoped>\n",
       "    .dataframe tbody tr th:only-of-type {\n",
       "        vertical-align: middle;\n",
       "    }\n",
       "\n",
       "    .dataframe tbody tr th {\n",
       "        vertical-align: top;\n",
       "    }\n",
       "\n",
       "    .dataframe thead th {\n",
       "        text-align: right;\n",
       "    }\n",
       "</style>\n",
       "<table border=\"1\" class=\"dataframe\">\n",
       "  <thead>\n",
       "    <tr style=\"text-align: right;\">\n",
       "      <th></th>\n",
       "      <th>Call Failure</th>\n",
       "      <th>Complaints</th>\n",
       "      <th>Subscription Length</th>\n",
       "      <th>Charge Amount</th>\n",
       "      <th>Seconds of Use</th>\n",
       "      <th>Frequency of use</th>\n",
       "      <th>Frequency of SMS</th>\n",
       "      <th>Distinct Called Numbers</th>\n",
       "      <th>Age Group</th>\n",
       "      <th>Tariff Plan</th>\n",
       "      <th>Status</th>\n",
       "      <th>Age</th>\n",
       "      <th>Customer Value</th>\n",
       "      <th>Churn</th>\n",
       "    </tr>\n",
       "  </thead>\n",
       "  <tbody>\n",
       "    <tr>\n",
       "      <th>0</th>\n",
       "      <td>8</td>\n",
       "      <td>0</td>\n",
       "      <td>38</td>\n",
       "      <td>0</td>\n",
       "      <td>4370</td>\n",
       "      <td>71</td>\n",
       "      <td>5</td>\n",
       "      <td>17</td>\n",
       "      <td>3</td>\n",
       "      <td>1</td>\n",
       "      <td>1</td>\n",
       "      <td>30</td>\n",
       "      <td>197.640</td>\n",
       "      <td>0</td>\n",
       "    </tr>\n",
       "    <tr>\n",
       "      <th>1</th>\n",
       "      <td>0</td>\n",
       "      <td>0</td>\n",
       "      <td>39</td>\n",
       "      <td>0</td>\n",
       "      <td>318</td>\n",
       "      <td>5</td>\n",
       "      <td>7</td>\n",
       "      <td>4</td>\n",
       "      <td>2</td>\n",
       "      <td>1</td>\n",
       "      <td>2</td>\n",
       "      <td>25</td>\n",
       "      <td>46.035</td>\n",
       "      <td>0</td>\n",
       "    </tr>\n",
       "    <tr>\n",
       "      <th>2</th>\n",
       "      <td>10</td>\n",
       "      <td>0</td>\n",
       "      <td>37</td>\n",
       "      <td>0</td>\n",
       "      <td>2453</td>\n",
       "      <td>60</td>\n",
       "      <td>359</td>\n",
       "      <td>24</td>\n",
       "      <td>3</td>\n",
       "      <td>1</td>\n",
       "      <td>1</td>\n",
       "      <td>30</td>\n",
       "      <td>1536.520</td>\n",
       "      <td>0</td>\n",
       "    </tr>\n",
       "    <tr>\n",
       "      <th>3</th>\n",
       "      <td>10</td>\n",
       "      <td>0</td>\n",
       "      <td>38</td>\n",
       "      <td>0</td>\n",
       "      <td>4198</td>\n",
       "      <td>66</td>\n",
       "      <td>1</td>\n",
       "      <td>35</td>\n",
       "      <td>1</td>\n",
       "      <td>1</td>\n",
       "      <td>1</td>\n",
       "      <td>15</td>\n",
       "      <td>240.020</td>\n",
       "      <td>0</td>\n",
       "    </tr>\n",
       "    <tr>\n",
       "      <th>4</th>\n",
       "      <td>3</td>\n",
       "      <td>0</td>\n",
       "      <td>38</td>\n",
       "      <td>0</td>\n",
       "      <td>2393</td>\n",
       "      <td>58</td>\n",
       "      <td>2</td>\n",
       "      <td>33</td>\n",
       "      <td>1</td>\n",
       "      <td>1</td>\n",
       "      <td>1</td>\n",
       "      <td>15</td>\n",
       "      <td>145.805</td>\n",
       "      <td>0</td>\n",
       "    </tr>\n",
       "  </tbody>\n",
       "</table>\n",
       "</div>"
      ],
      "text/plain": [
       "   Call Failure  Complaints  Subscription Length  Charge Amount  \\\n",
       "0             8           0                   38              0   \n",
       "1             0           0                   39              0   \n",
       "2            10           0                   37              0   \n",
       "3            10           0                   38              0   \n",
       "4             3           0                   38              0   \n",
       "\n",
       "   Seconds of Use  Frequency of use  Frequency of SMS Distinct Called Numbers  \\\n",
       "0            4370                71                 5                      17   \n",
       "1             318                 5                 7                       4   \n",
       "2            2453                60               359                      24   \n",
       "3            4198                66                 1                      35   \n",
       "4            2393                58                 2                      33   \n",
       "\n",
       "   Age Group  Tariff Plan  Status  Age  Customer Value  Churn  \n",
       "0          3            1       1   30         197.640      0  \n",
       "1          2            1       2   25          46.035      0  \n",
       "2          3            1       1   30        1536.520      0  \n",
       "3          1            1       1   15         240.020      0  \n",
       "4          1            1       1   15         145.805      0  "
      ]
     },
     "execution_count": 110,
     "metadata": {},
     "output_type": "execute_result"
    }
   ],
   "source": [
    "#A preview of the data\n",
    "telco.head()"
   ]
  },
  {
   "cell_type": "code",
   "execution_count": 129,
   "id": "3350dc46",
   "metadata": {},
   "outputs": [
    {
     "data": {
      "text/plain": [
       "(1428, 13)"
      ]
     },
     "execution_count": 129,
     "metadata": {},
     "output_type": "execute_result"
    }
   ],
   "source": [
    "telco.shape"
   ]
  },
  {
   "cell_type": "markdown",
   "id": "f452fd70",
   "metadata": {},
   "source": [
    "# Data Validation"
   ]
  },
  {
   "cell_type": "code",
   "execution_count": 111,
   "id": "73b9326f",
   "metadata": {
    "scrolled": false
   },
   "outputs": [
    {
     "name": "stdout",
     "output_type": "stream",
     "text": [
      "<class 'pandas.core.frame.DataFrame'>\n",
      "RangeIndex: 1428 entries, 0 to 1427\n",
      "Data columns (total 14 columns):\n",
      " #   Column                   Non-Null Count  Dtype  \n",
      "---  ------                   --------------  -----  \n",
      " 0   Call Failure             1428 non-null   int64  \n",
      " 1   Complaints               1428 non-null   int64  \n",
      " 2   Subscription Length      1428 non-null   int64  \n",
      " 3   Charge Amount            1428 non-null   int64  \n",
      " 4   Seconds of Use           1428 non-null   int64  \n",
      " 5   Frequency of use         1428 non-null   int64  \n",
      " 6   Frequency of SMS         1428 non-null   int64  \n",
      " 7   Distinct Called Numbers  1428 non-null   object \n",
      " 8   Age Group                1428 non-null   int64  \n",
      " 9   Tariff Plan              1428 non-null   int64  \n",
      " 10  Status                   1428 non-null   int64  \n",
      " 11  Age                      1428 non-null   int64  \n",
      " 12  Customer Value           1428 non-null   float64\n",
      " 13  Churn                    1428 non-null   int64  \n",
      "dtypes: float64(1), int64(12), object(1)\n",
      "memory usage: 156.3+ KB\n"
     ]
    }
   ],
   "source": [
    "telco.info()"
   ]
  },
  {
   "cell_type": "markdown",
   "id": "bb363c3b",
   "metadata": {},
   "source": [
    "# Data Cleaning"
   ]
  },
  {
   "cell_type": "code",
   "execution_count": 112,
   "id": "d9708674",
   "metadata": {
    "scrolled": true
   },
   "outputs": [
    {
     "name": "stdout",
     "output_type": "stream",
     "text": [
      "Call Failure - 0.0%\n",
      "Complaints - 0.0%\n",
      "Subscription Length - 0.0%\n",
      "Charge Amount - 0.0%\n",
      "Seconds of Use - 0.0%\n",
      "Frequency of use - 0.0%\n",
      "Frequency of SMS - 0.0%\n",
      "Distinct Called Numbers - 0.0%\n",
      "Age Group - 0.0%\n",
      "Tariff Plan - 0.0%\n",
      "Status - 0.0%\n",
      "Age - 0.0%\n",
      "Customer Value - 0.0%\n",
      "Churn - 0.0%\n"
     ]
    }
   ],
   "source": [
    "for col in telco.columns:\n",
    "    pct_missing = np.mean(telco[col].isnull())\n",
    "    print('{} - {}%'.format(col, pct_missing))"
   ]
  },
  {
   "cell_type": "markdown",
   "id": "f30f5a48",
   "metadata": {},
   "source": [
    "# Exploratory Data Analysis"
   ]
  },
  {
   "cell_type": "code",
   "execution_count": 113,
   "id": "080fc308",
   "metadata": {},
   "outputs": [
    {
     "data": {
      "text/plain": [
       "0    1195\n",
       "1     233\n",
       "Name: Churn, dtype: int64"
      ]
     },
     "execution_count": 113,
     "metadata": {},
     "output_type": "execute_result"
    }
   ],
   "source": [
    "telco['Churn'].value_counts()"
   ]
  },
  {
   "cell_type": "markdown",
   "id": "a484748d",
   "metadata": {},
   "source": [
    "### 1. An idea of the relations between feautures"
   ]
  },
  {
   "cell_type": "code",
   "execution_count": 114,
   "id": "8838f632",
   "metadata": {},
   "outputs": [
    {
     "name": "stderr",
     "output_type": "stream",
     "text": [
      "C:\\Users\\Joseph\\AppData\\Local\\Temp\\ipykernel_13248\\3710612496.py:1: FutureWarning: The default value of numeric_only in DataFrame.corr is deprecated. In a future version, it will default to False. Select only valid columns or specify the value of numeric_only to silence this warning.\n",
      "  sns.heatmap(telco.corr())\n"
     ]
    },
    {
     "data": {
      "text/plain": [
       "<Axes: >"
      ]
     },
     "execution_count": 114,
     "metadata": {},
     "output_type": "execute_result"
    },
    {
     "data": {
      "image/png": "[encoded data removed]",
      "text/plain": [
       "<Figure size 640x480 with 2 Axes>"
      ]
     },
     "metadata": {},
     "output_type": "display_data"
    }
   ],
   "source": [
    "sns.heatmap(telco.corr())"
   ]
  },
  {
   "cell_type": "markdown",
   "id": "e69d53ce",
   "metadata": {},
   "source": [
    "### 2. What percentage of the customers churn?"
   ]
  },
  {
   "cell_type": "code",
   "execution_count": 115,
   "id": "bd84c758",
   "metadata": {},
   "outputs": [
    {
     "data": {
      "text/plain": [
       "<Axes: title={'center': 'Part of unsubscriptions'}, ylabel='Churn'>"
      ]
     },
     "execution_count": 115,
     "metadata": {},
     "output_type": "execute_result"
    },
    {
     "data": {
      "image/png": "[encoded data removed]",
      "text/plain": [
       "<Figure size 640x480 with 1 Axes>"
      ]
     },
     "metadata": {},
     "output_type": "display_data"
    }
   ],
   "source": [
    "## Part of the people that churn\n",
    "percent = (telco['Churn'].value_counts()/telco['Churn'].value_counts().sum() * 100).values\n",
    "telco['Churn'].value_counts().plot(kind='pie', labels=[\"Don't churn\", \"Churn\"], autopct='%0.2f%%', title ='Part of unsubscriptions')\n"
   ]
  },
  {
   "cell_type": "markdown",
   "id": "a0158c4b",
   "metadata": {},
   "source": [
    "### 3. Do customer service complaints vary by age group?"
   ]
  },
  {
   "cell_type": "code",
   "execution_count": 116,
   "id": "90bfc0ea",
   "metadata": {},
   "outputs": [
    {
     "data": {
      "text/plain": [
       "(array([0, 1, 2, 3, 4]),\n",
       " [Text(0, 0, '15'),\n",
       "  Text(1, 0, '25'),\n",
       "  Text(2, 0, '30'),\n",
       "  Text(3, 0, '45'),\n",
       "  Text(4, 0, '55')])"
      ]
     },
     "execution_count": 116,
     "metadata": {},
     "output_type": "execute_result"
    },
    {
     "data": {
      "image/png": "[encoded data removed]",
      "text/plain": [
       "<Figure size 640x480 with 1 Axes>"
      ]
     },
     "metadata": {},
     "output_type": "display_data"
    }
   ],
   "source": [
    "telco[['Complaints','Age']].groupby('Age').sum().plot(kind='bar', title='Number of Complaints by Age')\n",
    "plt.xticks(rotation=0)"
   ]
  },
  {
   "cell_type": "markdown",
   "id": "56b01b63",
   "metadata": {},
   "source": [
    "### 4. Relation Between Age and Churn"
   ]
  },
  {
   "cell_type": "code",
   "execution_count": 117,
   "id": "b338879e",
   "metadata": {},
   "outputs": [
    {
     "data": {
      "text/plain": [
       "(array([0, 1, 2, 3, 4]),\n",
       " [Text(0, 0, '15'),\n",
       "  Text(1, 0, '25'),\n",
       "  Text(2, 0, '30'),\n",
       "  Text(3, 0, '45'),\n",
       "  Text(4, 0, '55')])"
      ]
     },
     "execution_count": 117,
     "metadata": {},
     "output_type": "execute_result"
    },
    {
     "data": {
      "image/png": "[encoded data removed]",
      "text/plain": [
       "<Figure size 640x480 with 1 Axes>"
      ]
     },
     "metadata": {},
     "output_type": "display_data"
    }
   ],
   "source": [
    "telco[['Churn', 'Age']].groupby('Age').sum().plot(kind='bar', title='Number of Churns by age')\n",
    "plt.xticks(rotation=0)"
   ]
  },
  {
   "cell_type": "markdown",
   "id": "48225412",
   "metadata": {},
   "source": [
    "# Modeling"
   ]
  },
  {
   "cell_type": "markdown",
   "id": "1b8f1a5b",
   "metadata": {},
   "source": [
    "### 1. Preprocessing the data"
   ]
  },
  {
   "cell_type": "code",
   "execution_count": 118,
   "id": "4d7915d4",
   "metadata": {
    "scrolled": false
   },
   "outputs": [],
   "source": [
    "#Dropping features which don't add predictive power\n",
    "telco.drop(['Distinct Called Numbers'], axis =1, inplace=True)"
   ]
  },
  {
   "cell_type": "code",
   "execution_count": 119,
   "id": "5d4350cf",
   "metadata": {},
   "outputs": [],
   "source": [
    "from sklearn.decomposition import PCA\n",
    "from sklearn.model_selection import train_test_split\n",
    "from sklearn.preprocessing import StandardScaler\n",
    "\n",
    "X = telco.drop('Churn', axis=1)\n",
    "y = telco['Churn'].values.reshape(-1, 1)\n",
    "\n",
    "scaler = StandardScaler()\n",
    "\n",
    "X_scaled = scaler.fit_transform(X)\n",
    "\n",
    "X_train, X_test, y_train, y_test = train_test_split(X_scaled, y, test_size=0.2, random_state=42)"
   ]
  },
  {
   "cell_type": "markdown",
   "id": "8cca2c40",
   "metadata": {},
   "source": [
    "### 2. Defining a score function"
   ]
  },
  {
   "cell_type": "code",
   "execution_count": 120,
   "id": "c6f3e516",
   "metadata": {},
   "outputs": [],
   "source": [
    "from sklearn.metrics import classification_report, confusion_matrix\n",
    "from sklearn.metrics import accuracy_score, roc_auc_score\n",
    "\n",
    "\n",
    "def classification_score(y_pred, y_test, y_pred_pb):\n",
    "    print('Accuracy of the model : ', round(accuracy_score(y_pred, y_test), 3), '\\n')\n",
    "    print('Area Under ROC Curve : ', roc_auc_score(y_test,y_pred_pb), '\\n')\n",
    "    print(classification_report(y_pred, y_test), '\\n')\n",
    "    print(confusion_matrix(y_pred, y_test))"
   ]
  },
  {
   "cell_type": "markdown",
   "id": "6139348d",
   "metadata": {},
   "source": [
    "### 3. Fitting to models"
   ]
  },
  {
   "cell_type": "markdown",
   "id": "78574bb6",
   "metadata": {},
   "source": [
    "### A) Logistic regression model"
   ]
  },
  {
   "cell_type": "code",
   "execution_count": 121,
   "id": "53f93437",
   "metadata": {},
   "outputs": [
    {
     "name": "stdout",
     "output_type": "stream",
     "text": [
      "Accuracy of the model :  0.874 \n",
      "\n",
      "Area Under ROC Curve :  0.8920155478176371 \n",
      "\n",
      "              precision    recall  f1-score   support\n",
      "\n",
      "           0       0.97      0.89      0.93       255\n",
      "           1       0.45      0.77      0.57        31\n",
      "\n",
      "    accuracy                           0.87       286\n",
      "   macro avg       0.71      0.83      0.75       286\n",
      "weighted avg       0.91      0.87      0.89       286\n",
      " \n",
      "\n",
      "[[226  29]\n",
      " [  7  24]]\n"
     ]
    },
    {
     "name": "stderr",
     "output_type": "stream",
     "text": [
      "C:\\Users\\Joseph\\anaconda3\\lib\\site-packages\\sklearn\\utils\\validation.py:1143: DataConversionWarning: A column-vector y was passed when a 1d array was expected. Please change the shape of y to (n_samples, ), for example using ravel().\n",
      "  y = column_or_1d(y, warn=True)\n"
     ]
    }
   ],
   "source": [
    "# Logistic Regression\n",
    "from sklearn.linear_model import LogisticRegression\n",
    "\n",
    "logreg = LogisticRegression()\n",
    "\n",
    "logreg.fit(X_train, y_train)\n",
    "y_pred = logreg.predict(X_test)\n",
    "y_pred_pb = logreg.predict_proba(X_test)[:, 1]\n",
    "\n",
    "classification_score(y_pred, y_test, y_pred_pb)"
   ]
  },
  {
   "cell_type": "markdown",
   "id": "357b1aa5",
   "metadata": {},
   "source": [
    "### B) Support vector machine model"
   ]
  },
  {
   "cell_type": "code",
   "execution_count": 122,
   "id": "f0622327",
   "metadata": {
    "scrolled": true
   },
   "outputs": [
    {
     "name": "stderr",
     "output_type": "stream",
     "text": [
      "C:\\Users\\Joseph\\anaconda3\\lib\\site-packages\\sklearn\\utils\\validation.py:1143: DataConversionWarning: A column-vector y was passed when a 1d array was expected. Please change the shape of y to (n_samples, ), for example using ravel().\n",
      "  y = column_or_1d(y, warn=True)\n"
     ]
    },
    {
     "name": "stdout",
     "output_type": "stream",
     "text": [
      "Accuracy of the model :  0.892 \n",
      "\n",
      "Area Under ROC Curve :  0.935257915620698 \n",
      "\n",
      "              precision    recall  f1-score   support\n",
      "\n",
      "           0       0.99      0.89      0.94       258\n",
      "           1       0.47      0.89      0.62        28\n",
      "\n",
      "    accuracy                           0.89       286\n",
      "   macro avg       0.73      0.89      0.78       286\n",
      "weighted avg       0.94      0.89      0.91       286\n",
      " \n",
      "\n",
      "[[230  28]\n",
      " [  3  25]]\n"
     ]
    }
   ],
   "source": [
    "# SVC\n",
    "from sklearn.svm import SVC\n",
    "\n",
    "svc = SVC(probability=True)\n",
    "\n",
    "svc.fit(X_train, y_train)\n",
    "y_pred = svc.predict(X_test)\n",
    "y_pred_pb = svc.predict_proba(X_test)[:, 1]\n",
    "\n",
    "classification_score(y_pred, y_test, y_pred_pb)"
   ]
  },
  {
   "cell_type": "markdown",
   "id": "1c248beb",
   "metadata": {},
   "source": [
    "### C) Decision Tree Classifier Model"
   ]
  },
  {
   "cell_type": "code",
   "execution_count": 123,
   "id": "0cf46489",
   "metadata": {},
   "outputs": [
    {
     "name": "stdout",
     "output_type": "stream",
     "text": [
      "Accuracy of the model :  0.906 \n",
      "\n",
      "Area Under ROC Curve :  0.8346829702809943 \n",
      "\n",
      "              precision    recall  f1-score   support\n",
      "\n",
      "           0       0.95      0.93      0.94       238\n",
      "           1       0.70      0.77      0.73        48\n",
      "\n",
      "    accuracy                           0.91       286\n",
      "   macro avg       0.83      0.85      0.84       286\n",
      "weighted avg       0.91      0.91      0.91       286\n",
      " \n",
      "\n",
      "[[222  16]\n",
      " [ 11  37]]\n"
     ]
    }
   ],
   "source": [
    "# Decision Tree Classifier\n",
    "from sklearn.tree import DecisionTreeClassifier\n",
    "\n",
    "dtc = DecisionTreeClassifier()\n",
    "\n",
    "dtc.fit(X_train, y_train)\n",
    "y_pred = dtc.predict(X_test)\n",
    "y_pred_pb = dtc.predict_proba(X_test)[:, 1]\n",
    "\n",
    "classification_score(y_pred, y_test, y_pred_pb)"
   ]
  },
  {
   "cell_type": "markdown",
   "id": "51c95344",
   "metadata": {},
   "source": [
    "### 4. Ranking features importance"
   ]
  },
  {
   "cell_type": "code",
   "execution_count": 126,
   "id": "1339c05b",
   "metadata": {},
   "outputs": [
    {
     "data": {
      "text/html": [
       "<div>\n",
       "<style scoped>\n",
       "    .dataframe tbody tr th:only-of-type {\n",
       "        vertical-align: middle;\n",
       "    }\n",
       "\n",
       "    .dataframe tbody tr th {\n",
       "        vertical-align: top;\n",
       "    }\n",
       "\n",
       "    .dataframe thead th {\n",
       "        text-align: right;\n",
       "    }\n",
       "</style>\n",
       "<table border=\"1\" class=\"dataframe\">\n",
       "  <thead>\n",
       "    <tr style=\"text-align: right;\">\n",
       "      <th></th>\n",
       "      <th>Feature Importance (%)</th>\n",
       "      <th>Correlation to Churn</th>\n",
       "    </tr>\n",
       "  </thead>\n",
       "  <tbody>\n",
       "    <tr>\n",
       "      <th>Complaints</th>\n",
       "      <td>31.33</td>\n",
       "      <td>0.533797</td>\n",
       "    </tr>\n",
       "    <tr>\n",
       "      <th>Seconds of Use</th>\n",
       "      <td>15.94</td>\n",
       "      <td>-0.300529</td>\n",
       "    </tr>\n",
       "    <tr>\n",
       "      <th>Status</th>\n",
       "      <td>13.69</td>\n",
       "      <td>0.486541</td>\n",
       "    </tr>\n",
       "    <tr>\n",
       "      <th>Subscription Length</th>\n",
       "      <td>10.88</td>\n",
       "      <td>-0.031920</td>\n",
       "    </tr>\n",
       "    <tr>\n",
       "      <th>Customer Value</th>\n",
       "      <td>9.91</td>\n",
       "      <td>-0.284996</td>\n",
       "    </tr>\n",
       "    <tr>\n",
       "      <th>Frequency of use</th>\n",
       "      <td>5.97</td>\n",
       "      <td>-0.302636</td>\n",
       "    </tr>\n",
       "    <tr>\n",
       "      <th>Call Failure</th>\n",
       "      <td>5.38</td>\n",
       "      <td>0.000223</td>\n",
       "    </tr>\n",
       "    <tr>\n",
       "      <th>Frequency of SMS</th>\n",
       "      <td>4.22</td>\n",
       "      <td>-0.216795</td>\n",
       "    </tr>\n",
       "    <tr>\n",
       "      <th>Age Group</th>\n",
       "      <td>1.47</td>\n",
       "      <td>-0.017481</td>\n",
       "    </tr>\n",
       "    <tr>\n",
       "      <th>Age</th>\n",
       "      <td>1.21</td>\n",
       "      <td>-0.016738</td>\n",
       "    </tr>\n",
       "    <tr>\n",
       "      <th>Charge Amount</th>\n",
       "      <td>0.00</td>\n",
       "      <td>-0.172532</td>\n",
       "    </tr>\n",
       "    <tr>\n",
       "      <th>Tariff Plan</th>\n",
       "      <td>0.00</td>\n",
       "      <td>-0.088092</td>\n",
       "    </tr>\n",
       "  </tbody>\n",
       "</table>\n",
       "</div>"
      ],
      "text/plain": [
       "                     Feature Importance (%)  Correlation to Churn\n",
       "Complaints                            31.33              0.533797\n",
       "Seconds of Use                        15.94             -0.300529\n",
       "Status                                13.69              0.486541\n",
       "Subscription Length                   10.88             -0.031920\n",
       "Customer Value                         9.91             -0.284996\n",
       "Frequency of use                       5.97             -0.302636\n",
       "Call Failure                           5.38              0.000223\n",
       "Frequency of SMS                       4.22             -0.216795\n",
       "Age Group                              1.47             -0.017481\n",
       "Age                                    1.21             -0.016738\n",
       "Charge Amount                          0.00             -0.172532\n",
       "Tariff Plan                            0.00             -0.088092"
      ]
     },
     "execution_count": 126,
     "metadata": {},
     "output_type": "execute_result"
    }
   ],
   "source": [
    "features_importance = pd.DataFrame(np.round(dtc.feature_importances_, 4) * 100, index=X.columns, columns=['Feature Importance (%)']).sort_values('Feature Importance (%)', ascending=False)\n",
    "\n",
    "features_importance['Correlation to Churn'] = telco.corr().iloc[-1, :]\n",
    "features_importance"
   ]
  },
  {
   "cell_type": "code",
   "execution_count": null,
   "id": "85fd14a1",
   "metadata": {},
   "outputs": [],
   "source": []
  },
  {
   "cell_type": "code",
   "execution_count": null,
   "id": "2fd2a903",
   "metadata": {},
   "outputs": [],
   "source": []
  }
 ],
 "metadata": {
  "kernelspec": {
   "display_name": "Python 3 (ipykernel)",
   "language": "python",
   "name": "python3"
  },
  "language_info": {
   "codemirror_mode": {
    "name": "ipython",
    "version": 3
   },
   "file_extension": ".py",
   "mimetype": "text/x-python",
   "name": "python",
   "nbconvert_exporter": "python",
   "pygments_lexer": "ipython3",
   "version": "3.10.9"
  }
 },
 "nbformat": 4,
 "nbformat_minor": 5
}
